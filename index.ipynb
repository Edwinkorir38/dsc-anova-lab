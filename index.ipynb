{
 "cells": [
  {
   "cell_type": "markdown",
   "metadata": {},
   "source": [
    "# ANOVA  - Lab\n",
    "\n",
    "## Introduction\n",
    "\n",
    "In this lab, you'll get some brief practice generating an ANOVA table (AOV) and interpreting its output. You'll also perform some investigations to compare the method to the t-tests you previously employed to conduct hypothesis testing.\n",
    "\n",
    "## Objectives\n",
    "\n",
    "In this lab you will: \n",
    "\n",
    "- Use ANOVA for testing multiple pairwise comparisons \n",
    "- Interpret results of an ANOVA and compare them to a t-test"
   ]
  },
  {
   "cell_type": "markdown",
   "metadata": {},
   "source": [
    "## Load the data\n",
    "\n",
    "Start by loading in the data stored in the file `'ToothGrowth.csv'`: "
   ]
  },
  {
   "cell_type": "code",
   "execution_count": 18,
   "metadata": {},
   "outputs": [
    {
     "data": {
      "text/html": [
       "<div>\n",
       "<style scoped>\n",
       "    .dataframe tbody tr th:only-of-type {\n",
       "        vertical-align: middle;\n",
       "    }\n",
       "\n",
       "    .dataframe tbody tr th {\n",
       "        vertical-align: top;\n",
       "    }\n",
       "\n",
       "    .dataframe thead th {\n",
       "        text-align: right;\n",
       "    }\n",
       "</style>\n",
       "<table border=\"1\" class=\"dataframe\">\n",
       "  <thead>\n",
       "    <tr style=\"text-align: right;\">\n",
       "      <th></th>\n",
       "      <th>len</th>\n",
       "      <th>supp</th>\n",
       "      <th>dose</th>\n",
       "    </tr>\n",
       "  </thead>\n",
       "  <tbody>\n",
       "    <tr>\n",
       "      <th>0</th>\n",
       "      <td>4.2</td>\n",
       "      <td>VC</td>\n",
       "      <td>0.5</td>\n",
       "    </tr>\n",
       "    <tr>\n",
       "      <th>1</th>\n",
       "      <td>11.5</td>\n",
       "      <td>VC</td>\n",
       "      <td>0.5</td>\n",
       "    </tr>\n",
       "    <tr>\n",
       "      <th>2</th>\n",
       "      <td>7.3</td>\n",
       "      <td>VC</td>\n",
       "      <td>0.5</td>\n",
       "    </tr>\n",
       "    <tr>\n",
       "      <th>3</th>\n",
       "      <td>5.8</td>\n",
       "      <td>VC</td>\n",
       "      <td>0.5</td>\n",
       "    </tr>\n",
       "    <tr>\n",
       "      <th>4</th>\n",
       "      <td>6.4</td>\n",
       "      <td>VC</td>\n",
       "      <td>0.5</td>\n",
       "    </tr>\n",
       "  </tbody>\n",
       "</table>\n",
       "</div>"
      ],
      "text/plain": [
       "    len supp  dose\n",
       "0   4.2   VC   0.5\n",
       "1  11.5   VC   0.5\n",
       "2   7.3   VC   0.5\n",
       "3   5.8   VC   0.5\n",
       "4   6.4   VC   0.5"
      ]
     },
     "execution_count": 18,
     "metadata": {},
     "output_type": "execute_result"
    }
   ],
   "source": [
    "# Your code here\n",
    "import pandas as pd\n",
    "import statsmodels.api as sm\n",
    "import statsmodels.formula.api as smf\n",
    "from scipy import stats\n",
    "from itertools import combinations\n",
    "\n",
    "# Load the dataset\n",
    "df = pd.read_csv(\"ToothGrowth.csv\")\n",
    "\n",
    "# Display first few rows\n",
    "df.head()"
   ]
  },
  {
   "cell_type": "markdown",
   "metadata": {},
   "source": [
    "## Generate the ANOVA table\n",
    "\n",
    "Now generate an ANOVA table in order to analyze the influence of the medication and dosage:  "
   ]
  },
  {
   "cell_type": "code",
   "execution_count": 19,
   "metadata": {},
   "outputs": [
    {
     "name": "stdout",
     "output_type": "stream",
     "text": [
      "                      sum_sq    df          F        PR(>F)\n",
      "C(supp)           205.350000   1.0  15.571979  2.311828e-04\n",
      "C(dose)          2426.434333   2.0  91.999965  4.046291e-18\n",
      "C(supp):C(dose)   108.319000   2.0   4.106991  2.186027e-02\n",
      "Residual          712.106000  54.0        NaN           NaN\n"
     ]
    }
   ],
   "source": [
    "# Your code here\n",
    "# Ensure categorical variables are correctly formatted\n",
    "df[\"supp\"] = df[\"supp\"].astype(\"category\")  \n",
    "df[\"dose\"] = df[\"dose\"].astype(\"category\")  \n",
    "\n",
    "# Fit an ANOVA model\n",
    "model = smf.ols('len ~ C(supp) + C(dose) + C(supp):C(dose)', data=df).fit()\n",
    "anova_table = sm.stats.anova_lm(model, typ=2)\n",
    "\n",
    "# Display the ANOVA table\n",
    "print(anova_table)"
   ]
  },
  {
   "cell_type": "markdown",
   "metadata": {},
   "source": [
    "## Interpret the output\n",
    "\n",
    "Make a brief comment regarding the statistics and the effect of supplement and dosage on tooth length: "
   ]
  },
  {
   "cell_type": "code",
   "execution_count": 20,
   "metadata": {},
   "outputs": [
    {
     "data": {
      "text/plain": [
       "' \\nIf both supp and dose are significant, both factors influence tooth growth.\\nIf only dose is significant, dosage has a greater impact than supplement type.\\nIf the interaction is significant, the effectiveness of a supplement depends on the dosage level.If not, dose influences growth independently of supplement type.\\n'"
      ]
     },
     "execution_count": 20,
     "metadata": {},
     "output_type": "execute_result"
    }
   ],
   "source": [
    "# Your comment here\n",
    "\"\"\" \n",
    "If both supp and dose are significant, both factors influence tooth growth.\n",
    "If only dose is significant, dosage has a greater impact than supplement type.\n",
    "If the interaction is significant, the effectiveness of a supplement depends on the dosage level.If not, dose influences growth independently of supplement type.\n",
    "\"\"\""
   ]
  },
  {
   "cell_type": "markdown",
   "metadata": {},
   "source": [
    "## Compare to t-tests\n",
    "\n",
    "Now that you've had a chance to generate an ANOVA table, its interesting to compare the results to those from the t-tests you were working with earlier. With that, start by breaking the data into two samples: those given the OJ supplement, and those given the VC supplement. Afterward, you'll conduct a t-test to compare the tooth length of these two different samples: "
   ]
  },
  {
   "cell_type": "code",
   "execution_count": 21,
   "metadata": {},
   "outputs": [
    {
     "name": "stdout",
     "output_type": "stream",
     "text": [
      "T-statistic: 1.9153, P-value: 0.0606\n"
     ]
    }
   ],
   "source": [
    "# Your code here\n",
    "#Split data by supplement type\n",
    "oj_group = df[df[\"supp\"] == \"OJ\"][\"len\"]\n",
    "vc_group = df[df[\"supp\"] == \"VC\"][\"len\"]\n",
    "\n",
    "# Perform an independent t-test\n",
    "t_stat, p_value = stats.ttest_ind(oj_group, vc_group, equal_var=False)  # Welch's t-test\n",
    "\n",
    "# Display results\n",
    "print(f\"T-statistic: {t_stat:.4f}, P-value: {p_value:.4f}\")\n"
   ]
  },
  {
   "cell_type": "markdown",
   "metadata": {},
   "source": [
    "Now run a t-test between these two groups and print the associated two-sided p-value: "
   ]
  },
  {
   "cell_type": "code",
   "execution_count": 22,
   "metadata": {},
   "outputs": [
    {
     "name": "stdout",
     "output_type": "stream",
     "text": [
      "Two-sided p-value: 0.0606\n"
     ]
    }
   ],
   "source": [
    "# Calculate the 2-sided p-value for a t-test comparing the two supplement groups\n",
    "# Split data into two groups based on supplement type\n",
    "oj_group = df[df[\"supp\"] == \"OJ\"][\"len\"]\n",
    "vc_group = df[df[\"supp\"] == \"VC\"][\"len\"]\n",
    "\n",
    "# Perform an independent two-sided t-test\n",
    "t_stat, p_value = stats.ttest_ind(oj_group, vc_group, equal_var=False)  # Welch's t-test\n",
    "\n",
    "# Print the p-value\n",
    "print(f\"Two-sided p-value: {p_value:.4f}\")"
   ]
  },
  {
   "cell_type": "markdown",
   "metadata": {},
   "source": [
    "## A 2-Category ANOVA F-test is equivalent to a 2-tailed t-test!\n",
    "\n",
    "Now, recalculate an ANOVA F-test with only the supplement variable. An ANOVA F-test between two categories is the same as performing a 2-tailed t-test! So, the p-value in the table should be identical to your calculation above.\n",
    "\n",
    "> Note: there may be a small fractional difference (>0.001) between the two values due to a rounding error between implementations. "
   ]
  },
  {
   "cell_type": "code",
   "execution_count": 23,
   "metadata": {},
   "outputs": [
    {
     "name": "stdout",
     "output_type": "stream",
     "text": [
      "               sum_sq    df         F    PR(>F)\n",
      "C(supp)    205.350000   1.0  3.668253  0.060393\n",
      "Residual  3246.859333  58.0       NaN       NaN\n"
     ]
    }
   ],
   "source": [
    "# Your code here; conduct an ANOVA F-test of the oj and vc supplement groups.\n",
    "# Compare the p-value to that of the t-test above. \n",
    "# They should match (there may be a tiny fractional difference due to rounding errors in varying implementations)\n",
    "# Fit an ANOVA model with only supplement type\n",
    "model = smf.ols('len ~ C(supp)', data=df).fit()\n",
    "anova_table = sm.stats.anova_lm(model, typ=2)\n",
    "\n",
    "# Print the ANOVA table\n",
    "print(anova_table)"
   ]
  },
  {
   "cell_type": "markdown",
   "metadata": {},
   "source": [
    "## Run multiple t-tests\n",
    "\n",
    "While the 2-category ANOVA test is identical to a 2-tailed t-test, performing multiple t-tests leads to the multiple comparisons problem. To investigate this, look at the various sample groups you could create from the 2 features: "
   ]
  },
  {
   "cell_type": "code",
   "execution_count": 27,
   "metadata": {},
   "outputs": [
    {
     "name": "stdout",
     "output_type": "stream",
     "text": [
      "('OJ', np.float64(0.5))\n",
      "('OJ', np.float64(1.0))\n",
      "('OJ', np.float64(2.0))\n",
      "('VC', np.float64(0.5))\n",
      "('VC', np.float64(1.0))\n",
      "('VC', np.float64(2.0))\n"
     ]
    }
   ],
   "source": [
    "for group in df.groupby(['supp', 'dose'], observed=True)['len']:\n",
    "    group_name = group[0]\n",
    "    data = group[1]\n",
    "    print(group_name)"
   ]
  },
  {
   "cell_type": "markdown",
   "metadata": {},
   "source": [
    "While bad practice, examine the effects of calculating multiple t-tests with the various combinations of these. To do this, generate all combinations of the above groups. For each pairwise combination, calculate the p-value of a 2-sided t-test. Print the group combinations and their associated p-value for the two-sided t-test."
   ]
  },
  {
   "cell_type": "code",
   "execution_count": 26,
   "metadata": {},
   "outputs": [
    {
     "name": "stdout",
     "output_type": "stream",
     "text": [
      "Comparison: ('OJ', np.float64(0.5)) vs ('OJ', np.float64(1.0)) | p-value: 0.0001\n",
      "Comparison: ('OJ', np.float64(0.5)) vs ('OJ', np.float64(2.0)) | p-value: 0.0000\n",
      "Comparison: ('OJ', np.float64(0.5)) vs ('VC', np.float64(0.5)) | p-value: 0.0064\n",
      "Comparison: ('OJ', np.float64(0.5)) vs ('VC', np.float64(1.0)) | p-value: 0.0460\n",
      "Comparison: ('OJ', np.float64(0.5)) vs ('VC', np.float64(2.0)) | p-value: 0.0000\n",
      "Comparison: ('OJ', np.float64(1.0)) vs ('OJ', np.float64(2.0)) | p-value: 0.0392\n",
      "Comparison: ('OJ', np.float64(1.0)) vs ('VC', np.float64(0.5)) | p-value: 0.0000\n",
      "Comparison: ('OJ', np.float64(1.0)) vs ('VC', np.float64(1.0)) | p-value: 0.0010\n",
      "Comparison: ('OJ', np.float64(1.0)) vs ('VC', np.float64(2.0)) | p-value: 0.0965\n",
      "Comparison: ('OJ', np.float64(2.0)) vs ('VC', np.float64(0.5)) | p-value: 0.0000\n",
      "Comparison: ('OJ', np.float64(2.0)) vs ('VC', np.float64(1.0)) | p-value: 0.0000\n",
      "Comparison: ('OJ', np.float64(2.0)) vs ('VC', np.float64(2.0)) | p-value: 0.9639\n",
      "Comparison: ('VC', np.float64(0.5)) vs ('VC', np.float64(1.0)) | p-value: 0.0000\n",
      "Comparison: ('VC', np.float64(0.5)) vs ('VC', np.float64(2.0)) | p-value: 0.0000\n",
      "Comparison: ('VC', np.float64(1.0)) vs ('VC', np.float64(2.0)) | p-value: 0.0001\n"
     ]
    }
   ],
   "source": [
    "# Your code here; reuse your t-test code above to calculate the p-value for a 2-sided t-test\n",
    "# for all combinations of the supplement-dose groups listed above. \n",
    "# (Since there isn't a control group, compare each group to every other group.)\n",
    "# Group data by supplement and dose\n",
    "grouped_data = {group: data.values for group, data in df.groupby(['supp', 'dose'], observed=False)['len']}\n",
    "\n",
    "# Generate all pairwise combinations\n",
    "group_combinations = list(combinations(grouped_data.keys(), 2))\n",
    "\n",
    "# Perform t-tests for each combination\n",
    "for (group1, group2) in group_combinations:\n",
    "    data1, data2 = grouped_data[group1], grouped_data[group2]\n",
    "    t_stat, p_value = stats.ttest_ind(data1, data2, equal_var=False)  # Welch's t-test\n",
    "    \n",
    "    # Print results\n",
    "    print(f\"Comparison: {group1} vs {group2} | p-value: {p_value:.4f}\")"
   ]
  },
  {
   "cell_type": "markdown",
   "metadata": {},
   "source": [
    "## Summary\n",
    "\n",
    "In this lesson, you implemented the ANOVA technique to generalize testing methods to multiple groups and factors."
   ]
  }
 ],
 "metadata": {
  "kernelspec": {
   "display_name": "Python 3",
   "language": "python",
   "name": "python3"
  },
  "language_info": {
   "codemirror_mode": {
    "name": "ipython",
    "version": 3
   },
   "file_extension": ".py",
   "mimetype": "text/x-python",
   "name": "python",
   "nbconvert_exporter": "python",
   "pygments_lexer": "ipython3",
   "version": "3.11.7"
  }
 },
 "nbformat": 4,
 "nbformat_minor": 2
}
